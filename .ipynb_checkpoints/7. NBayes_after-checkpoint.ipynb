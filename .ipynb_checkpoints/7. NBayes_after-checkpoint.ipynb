{
 "cells": [
  {
   "cell_type": "markdown",
   "metadata": {},
   "source": [
    "# Naive Bayes 실습"
   ]
  },
  {
   "cell_type": "markdown",
   "metadata": {},
   "source": [
    "# 1. Gaussian Naive Bayes"
   ]
  },
  {
   "cell_type": "markdown",
   "metadata": {},
   "source": [
    "- 데이터, 모듈 불러오기"
   ]
  },
  {
   "cell_type": "code",
   "execution_count": 1,
   "metadata": {
    "ExecuteTime": {
     "end_time": "2020-12-29T13:57:54.199374Z",
     "start_time": "2020-12-29T13:57:53.184234Z"
    }
   },
   "outputs": [],
   "source": [
    "from sklearn import datasets\n",
    "from sklearn.naive_bayes import GaussianNB"
   ]
  },
  {
   "cell_type": "code",
   "execution_count": 2,
   "metadata": {
    "ExecuteTime": {
     "end_time": "2020-12-29T13:57:58.544334Z",
     "start_time": "2020-12-29T13:57:58.081234Z"
    }
   },
   "outputs": [],
   "source": [
    "import pandas as pd"
   ]
  },
  {
   "cell_type": "code",
   "execution_count": 5,
   "metadata": {
    "ExecuteTime": {
     "end_time": "2020-12-29T13:59:01.467926Z",
     "start_time": "2020-12-29T13:59:01.450000Z"
    }
   },
   "outputs": [],
   "source": [
    "iris = datasets.load_iris()\n",
    "df_X=pd.DataFrame(iris.data)\n",
    "df_Y=pd.DataFrame(iris.target)"
   ]
  },
  {
   "cell_type": "code",
   "execution_count": 6,
   "metadata": {
    "ExecuteTime": {
     "end_time": "2020-12-29T13:59:02.947463Z",
     "start_time": "2020-12-29T13:59:02.930481Z"
    }
   },
   "outputs": [
    {
     "data": {
      "text/html": [
       "<div>\n",
       "<style scoped>\n",
       "    .dataframe tbody tr th:only-of-type {\n",
       "        vertical-align: middle;\n",
       "    }\n",
       "\n",
       "    .dataframe tbody tr th {\n",
       "        vertical-align: top;\n",
       "    }\n",
       "\n",
       "    .dataframe thead th {\n",
       "        text-align: right;\n",
       "    }\n",
       "</style>\n",
       "<table border=\"1\" class=\"dataframe\">\n",
       "  <thead>\n",
       "    <tr style=\"text-align: right;\">\n",
       "      <th></th>\n",
       "      <th>0</th>\n",
       "      <th>1</th>\n",
       "      <th>2</th>\n",
       "      <th>3</th>\n",
       "    </tr>\n",
       "  </thead>\n",
       "  <tbody>\n",
       "    <tr>\n",
       "      <th>0</th>\n",
       "      <td>5.1</td>\n",
       "      <td>3.5</td>\n",
       "      <td>1.4</td>\n",
       "      <td>0.2</td>\n",
       "    </tr>\n",
       "    <tr>\n",
       "      <th>1</th>\n",
       "      <td>4.9</td>\n",
       "      <td>3.0</td>\n",
       "      <td>1.4</td>\n",
       "      <td>0.2</td>\n",
       "    </tr>\n",
       "    <tr>\n",
       "      <th>2</th>\n",
       "      <td>4.7</td>\n",
       "      <td>3.2</td>\n",
       "      <td>1.3</td>\n",
       "      <td>0.2</td>\n",
       "    </tr>\n",
       "    <tr>\n",
       "      <th>3</th>\n",
       "      <td>4.6</td>\n",
       "      <td>3.1</td>\n",
       "      <td>1.5</td>\n",
       "      <td>0.2</td>\n",
       "    </tr>\n",
       "    <tr>\n",
       "      <th>4</th>\n",
       "      <td>5.0</td>\n",
       "      <td>3.6</td>\n",
       "      <td>1.4</td>\n",
       "      <td>0.2</td>\n",
       "    </tr>\n",
       "  </tbody>\n",
       "</table>\n",
       "</div>"
      ],
      "text/plain": [
       "     0    1    2    3\n",
       "0  5.1  3.5  1.4  0.2\n",
       "1  4.9  3.0  1.4  0.2\n",
       "2  4.7  3.2  1.3  0.2\n",
       "3  4.6  3.1  1.5  0.2\n",
       "4  5.0  3.6  1.4  0.2"
      ]
     },
     "execution_count": 6,
     "metadata": {},
     "output_type": "execute_result"
    }
   ],
   "source": [
    "df_X.head()"
   ]
  },
  {
   "cell_type": "code",
   "execution_count": 7,
   "metadata": {
    "ExecuteTime": {
     "end_time": "2020-12-29T13:59:05.440333Z",
     "start_time": "2020-12-29T13:59:05.428366Z"
    }
   },
   "outputs": [
    {
     "data": {
      "text/html": [
       "<div>\n",
       "<style scoped>\n",
       "    .dataframe tbody tr th:only-of-type {\n",
       "        vertical-align: middle;\n",
       "    }\n",
       "\n",
       "    .dataframe tbody tr th {\n",
       "        vertical-align: top;\n",
       "    }\n",
       "\n",
       "    .dataframe thead th {\n",
       "        text-align: right;\n",
       "    }\n",
       "</style>\n",
       "<table border=\"1\" class=\"dataframe\">\n",
       "  <thead>\n",
       "    <tr style=\"text-align: right;\">\n",
       "      <th></th>\n",
       "      <th>0</th>\n",
       "    </tr>\n",
       "  </thead>\n",
       "  <tbody>\n",
       "    <tr>\n",
       "      <th>0</th>\n",
       "      <td>0</td>\n",
       "    </tr>\n",
       "    <tr>\n",
       "      <th>1</th>\n",
       "      <td>0</td>\n",
       "    </tr>\n",
       "    <tr>\n",
       "      <th>2</th>\n",
       "      <td>0</td>\n",
       "    </tr>\n",
       "    <tr>\n",
       "      <th>3</th>\n",
       "      <td>0</td>\n",
       "    </tr>\n",
       "    <tr>\n",
       "      <th>4</th>\n",
       "      <td>0</td>\n",
       "    </tr>\n",
       "  </tbody>\n",
       "</table>\n",
       "</div>"
      ],
      "text/plain": [
       "   0\n",
       "0  0\n",
       "1  0\n",
       "2  0\n",
       "3  0\n",
       "4  0"
      ]
     },
     "execution_count": 7,
     "metadata": {},
     "output_type": "execute_result"
    }
   ],
   "source": [
    "df_Y.head()"
   ]
  },
  {
   "cell_type": "markdown",
   "metadata": {},
   "source": [
    "- 모델 피팅"
   ]
  },
  {
   "cell_type": "code",
   "execution_count": 8,
   "metadata": {
    "ExecuteTime": {
     "end_time": "2020-12-29T13:59:07.589838Z",
     "start_time": "2020-12-29T13:59:07.571887Z"
    }
   },
   "outputs": [],
   "source": [
    "gnb=GaussianNB()\n",
    "fitted=gnb.fit(iris.data,iris.target)\n",
    "y_pred=fitted.predict(iris.data)"
   ]
  },
  {
   "cell_type": "code",
   "execution_count": 9,
   "metadata": {
    "ExecuteTime": {
     "end_time": "2020-12-29T13:59:25.750633Z",
     "start_time": "2020-12-29T13:59:25.740633Z"
    }
   },
   "outputs": [
    {
     "data": {
      "text/plain": [
       "array([[1.00000000e+000, 1.51480769e-017, 2.34820051e-025],\n",
       "       [1.00000000e+000, 2.63876217e-018, 2.79566024e-025],\n",
       "       [7.27347795e-102, 9.45169639e-001, 5.48303606e-002],\n",
       "       [3.23245181e-254, 6.35381031e-011, 1.00000000e+000]])"
      ]
     },
     "execution_count": 9,
     "metadata": {},
     "output_type": "execute_result"
    }
   ],
   "source": [
    "fitted.predict_proba(iris.data)[[1,48,51,100]]"
   ]
  },
  {
   "cell_type": "code",
   "execution_count": 10,
   "metadata": {
    "ExecuteTime": {
     "end_time": "2020-12-29T13:59:27.077985Z",
     "start_time": "2020-12-29T13:59:27.066017Z"
    }
   },
   "outputs": [
    {
     "data": {
      "text/plain": [
       "array([0, 0, 1, 2])"
      ]
     },
     "execution_count": 10,
     "metadata": {},
     "output_type": "execute_result"
    }
   ],
   "source": [
    "fitted.predict(iris.data)[[1,48,51,100]]"
   ]
  },
  {
   "cell_type": "markdown",
   "metadata": {},
   "source": [
    "- Confusion matrix 구하기"
   ]
  },
  {
   "cell_type": "code",
   "execution_count": 11,
   "metadata": {
    "ExecuteTime": {
     "end_time": "2020-12-29T13:59:31.795628Z",
     "start_time": "2020-12-29T13:59:31.753835Z"
    }
   },
   "outputs": [],
   "source": [
    "from sklearn.metrics import confusion_matrix"
   ]
  },
  {
   "cell_type": "code",
   "execution_count": 12,
   "metadata": {
    "ExecuteTime": {
     "end_time": "2020-12-29T13:59:32.454474Z",
     "start_time": "2020-12-29T13:59:32.449474Z"
    }
   },
   "outputs": [
    {
     "data": {
      "text/plain": [
       "array([[50,  0,  0],\n",
       "       [ 0, 47,  3],\n",
       "       [ 0,  3, 47]], dtype=int64)"
      ]
     },
     "execution_count": 12,
     "metadata": {},
     "output_type": "execute_result"
    }
   ],
   "source": [
    "confusion_matrix(iris.target,y_pred)"
   ]
  },
  {
   "cell_type": "markdown",
   "metadata": {},
   "source": [
    "- Prior 설정하기"
   ]
  },
  {
   "cell_type": "code",
   "execution_count": 13,
   "metadata": {
    "ExecuteTime": {
     "end_time": "2020-12-29T13:59:34.118670Z",
     "start_time": "2020-12-29T13:59:34.106715Z"
    }
   },
   "outputs": [
    {
     "data": {
      "text/plain": [
       "array([[50,  0,  0],\n",
       "       [ 0, 33, 17],\n",
       "       [ 0,  0, 50]], dtype=int64)"
      ]
     },
     "execution_count": 13,
     "metadata": {},
     "output_type": "execute_result"
    }
   ],
   "source": [
    "gnb2=GaussianNB(priors=[1/100,1/100,98/100])\n",
    "fitted2=gnb2.fit(iris.data,iris.target)\n",
    "y_pred2=fitted2.predict(iris.data)\n",
    "confusion_matrix(iris.target,y_pred2)"
   ]
  },
  {
   "cell_type": "code",
   "execution_count": 14,
   "metadata": {
    "ExecuteTime": {
     "end_time": "2020-12-29T13:59:34.744560Z",
     "start_time": "2020-12-29T13:59:34.737581Z"
    }
   },
   "outputs": [
    {
     "data": {
      "text/plain": [
       "array([[50,  0,  0],\n",
       "       [ 0, 50,  0],\n",
       "       [ 0, 14, 36]], dtype=int64)"
      ]
     },
     "execution_count": 14,
     "metadata": {},
     "output_type": "execute_result"
    }
   ],
   "source": [
    "gnb2=GaussianNB(priors=[1/100,98/100,1/100])\n",
    "fitted2=gnb2.fit(iris.data,iris.target)\n",
    "y_pred2=fitted2.predict(iris.data)\n",
    "confusion_matrix(iris.target,y_pred2)"
   ]
  },
  {
   "cell_type": "markdown",
   "metadata": {},
   "source": [
    "# 2. Multinomial naive bayes"
   ]
  },
  {
   "cell_type": "markdown",
   "metadata": {},
   "source": [
    "- 모듈 불러오기 및 데이터 생성"
   ]
  },
  {
   "cell_type": "code",
   "execution_count": 15,
   "metadata": {
    "ExecuteTime": {
     "end_time": "2020-12-29T13:59:37.143725Z",
     "start_time": "2020-12-29T13:59:37.126770Z"
    }
   },
   "outputs": [],
   "source": [
    "from sklearn.naive_bayes import MultinomialNB"
   ]
  },
  {
   "cell_type": "code",
   "execution_count": 16,
   "metadata": {
    "ExecuteTime": {
     "end_time": "2020-12-29T13:59:38.525820Z",
     "start_time": "2020-12-29T13:59:38.515257Z"
    }
   },
   "outputs": [],
   "source": [
    "import numpy as np"
   ]
  },
  {
   "cell_type": "code",
   "execution_count": 17,
   "metadata": {
    "ExecuteTime": {
     "end_time": "2020-12-29T13:59:39.604791Z",
     "start_time": "2020-12-29T13:59:39.588832Z"
    }
   },
   "outputs": [],
   "source": [
    "X = np.random.randint(5, size=(6, 100))\n",
    "y = np.array([1, 2, 3, 4, 5, 6])"
   ]
  },
  {
   "cell_type": "code",
   "execution_count": 18,
   "metadata": {
    "ExecuteTime": {
     "end_time": "2020-12-29T13:59:40.453949Z",
     "start_time": "2020-12-29T13:59:40.441963Z"
    },
    "scrolled": true
   },
   "outputs": [
    {
     "data": {
      "text/plain": [
       "array([[1, 3, 4, 0, 1, 2, 0, 3, 3, 3, 1, 0, 0, 4, 1, 1, 1, 2, 0, 3, 4, 2,\n",
       "        3, 3, 2, 3, 4, 3, 3, 3, 3, 3, 4, 1, 2, 1, 0, 4, 0, 1, 1, 4, 3, 3,\n",
       "        4, 4, 3, 3, 1, 3, 3, 3, 3, 2, 3, 2, 2, 1, 4, 3, 4, 0, 0, 0, 2, 0,\n",
       "        2, 3, 2, 2, 0, 1, 0, 2, 3, 2, 1, 0, 0, 4, 4, 4, 0, 0, 4, 0, 3, 3,\n",
       "        0, 1, 1, 0, 4, 1, 2, 1, 2, 4, 2, 2],\n",
       "       [0, 3, 2, 3, 1, 2, 0, 4, 0, 0, 2, 4, 1, 4, 4, 0, 1, 0, 0, 1, 3, 3,\n",
       "        1, 0, 2, 3, 2, 3, 0, 4, 2, 4, 1, 1, 1, 0, 2, 4, 2, 0, 3, 4, 0, 2,\n",
       "        1, 2, 1, 1, 4, 3, 1, 2, 0, 4, 2, 0, 2, 3, 2, 3, 2, 1, 1, 2, 3, 2,\n",
       "        2, 4, 4, 0, 1, 2, 0, 2, 4, 2, 1, 1, 3, 1, 3, 2, 1, 2, 0, 4, 3, 4,\n",
       "        0, 1, 4, 4, 3, 1, 4, 1, 0, 3, 4, 2],\n",
       "       [2, 3, 3, 1, 1, 4, 3, 1, 4, 4, 3, 4, 3, 4, 4, 0, 4, 3, 0, 0, 0, 0,\n",
       "        0, 4, 4, 3, 1, 1, 0, 0, 3, 2, 4, 0, 2, 4, 2, 2, 4, 1, 2, 3, 4, 2,\n",
       "        1, 4, 3, 4, 3, 4, 2, 0, 3, 0, 1, 4, 4, 4, 2, 4, 1, 4, 2, 0, 1, 4,\n",
       "        2, 4, 2, 0, 0, 2, 2, 4, 3, 4, 3, 3, 4, 1, 4, 2, 1, 0, 3, 4, 4, 2,\n",
       "        3, 0, 2, 4, 4, 2, 3, 4, 3, 2, 1, 3],\n",
       "       [0, 3, 2, 4, 2, 1, 4, 3, 2, 0, 2, 4, 4, 0, 0, 2, 1, 1, 2, 4, 2, 1,\n",
       "        2, 1, 2, 4, 3, 1, 0, 3, 4, 4, 2, 4, 0, 3, 0, 3, 4, 3, 2, 0, 4, 4,\n",
       "        2, 2, 4, 0, 4, 0, 3, 0, 1, 3, 0, 0, 1, 2, 4, 3, 3, 3, 0, 1, 4, 2,\n",
       "        2, 2, 2, 4, 3, 0, 1, 3, 4, 0, 2, 3, 2, 3, 1, 0, 3, 4, 3, 2, 0, 3,\n",
       "        2, 4, 0, 3, 4, 3, 2, 1, 2, 1, 1, 2],\n",
       "       [0, 4, 1, 0, 1, 2, 0, 1, 2, 1, 1, 0, 0, 2, 1, 4, 1, 4, 0, 2, 3, 3,\n",
       "        3, 0, 3, 1, 1, 3, 2, 0, 4, 1, 0, 1, 4, 0, 2, 0, 1, 1, 4, 2, 4, 2,\n",
       "        3, 2, 0, 3, 4, 1, 2, 1, 4, 4, 0, 4, 0, 1, 0, 3, 4, 0, 2, 0, 2, 0,\n",
       "        1, 3, 2, 3, 2, 0, 1, 3, 4, 2, 0, 3, 1, 3, 2, 2, 0, 4, 1, 2, 3, 3,\n",
       "        0, 0, 4, 3, 3, 1, 0, 1, 2, 4, 4, 2],\n",
       "       [0, 1, 4, 3, 0, 4, 1, 0, 1, 3, 1, 4, 4, 4, 4, 2, 2, 3, 2, 3, 1, 1,\n",
       "        3, 3, 2, 0, 0, 3, 1, 4, 0, 4, 2, 0, 0, 1, 1, 2, 2, 3, 2, 0, 3, 3,\n",
       "        3, 0, 2, 2, 1, 3, 0, 4, 0, 2, 1, 4, 2, 2, 2, 4, 0, 1, 1, 0, 1, 3,\n",
       "        1, 3, 2, 4, 0, 0, 2, 3, 2, 4, 3, 4, 0, 4, 3, 2, 4, 3, 2, 3, 4, 4,\n",
       "        2, 3, 0, 2, 2, 1, 3, 4, 1, 1, 4, 4]])"
      ]
     },
     "execution_count": 18,
     "metadata": {},
     "output_type": "execute_result"
    }
   ],
   "source": [
    "X"
   ]
  },
  {
   "cell_type": "code",
   "execution_count": 19,
   "metadata": {
    "ExecuteTime": {
     "end_time": "2020-12-29T13:59:41.431079Z",
     "start_time": "2020-12-29T13:59:41.412131Z"
    }
   },
   "outputs": [
    {
     "data": {
      "text/plain": [
       "array([1, 2, 3, 4, 5, 6])"
      ]
     },
     "execution_count": 19,
     "metadata": {},
     "output_type": "execute_result"
    }
   ],
   "source": [
    "y"
   ]
  },
  {
   "cell_type": "markdown",
   "metadata": {},
   "source": [
    "- Multinomial naive bayes 모델 생성"
   ]
  },
  {
   "cell_type": "code",
   "execution_count": 20,
   "metadata": {
    "ExecuteTime": {
     "end_time": "2020-12-29T13:59:44.264710Z",
     "start_time": "2020-12-29T13:59:44.257728Z"
    }
   },
   "outputs": [
    {
     "data": {
      "text/plain": [
       "MultinomialNB()"
      ]
     },
     "execution_count": 20,
     "metadata": {},
     "output_type": "execute_result"
    }
   ],
   "source": [
    "clf = MultinomialNB()\n",
    "clf.fit(X, y)"
   ]
  },
  {
   "cell_type": "code",
   "execution_count": 21,
   "metadata": {
    "ExecuteTime": {
     "end_time": "2020-12-29T13:59:45.221880Z",
     "start_time": "2020-12-29T13:59:45.198942Z"
    }
   },
   "outputs": [
    {
     "name": "stdout",
     "output_type": "stream",
     "text": [
      "[3]\n"
     ]
    }
   ],
   "source": [
    "print(clf.predict(X[2:3]))"
   ]
  },
  {
   "cell_type": "code",
   "execution_count": 22,
   "metadata": {
    "ExecuteTime": {
     "end_time": "2020-12-29T13:59:46.215055Z",
     "start_time": "2020-12-29T13:59:46.202090Z"
    }
   },
   "outputs": [
    {
     "data": {
      "text/plain": [
       "array([[1.39449398e-35, 5.99034637e-34, 1.00000000e+00, 3.19468806e-40,\n",
       "        6.31280040e-39, 3.14592627e-29]])"
      ]
     },
     "execution_count": 22,
     "metadata": {},
     "output_type": "execute_result"
    }
   ],
   "source": [
    "clf.predict_proba(X[2:3])"
   ]
  },
  {
   "cell_type": "markdown",
   "metadata": {},
   "source": [
    "- prior 변경해보기"
   ]
  },
  {
   "cell_type": "code",
   "execution_count": 23,
   "metadata": {
    "ExecuteTime": {
     "end_time": "2020-12-29T13:59:47.521791Z",
     "start_time": "2020-12-29T13:59:47.508825Z"
    }
   },
   "outputs": [
    {
     "data": {
      "text/plain": [
       "MultinomialNB(class_prior=[0.1, 0.5, 0.1, 0.1, 0.1, 0.1])"
      ]
     },
     "execution_count": 23,
     "metadata": {},
     "output_type": "execute_result"
    }
   ],
   "source": [
    "clf2 = MultinomialNB(class_prior=[0.1,0.5,0.1,0.1,0.1,0.1])\n",
    "clf2.fit(X, y)"
   ]
  },
  {
   "cell_type": "code",
   "execution_count": 24,
   "metadata": {
    "ExecuteTime": {
     "end_time": "2020-12-29T13:59:48.161595Z",
     "start_time": "2020-12-29T13:59:48.144640Z"
    }
   },
   "outputs": [
    {
     "data": {
      "text/plain": [
       "array([[1.39449398e-35, 2.99517318e-33, 1.00000000e+00, 3.19468806e-40,\n",
       "        6.31280040e-39, 3.14592627e-29]])"
      ]
     },
     "execution_count": 24,
     "metadata": {},
     "output_type": "execute_result"
    }
   ],
   "source": [
    "clf2.predict_proba(X[2:3])"
   ]
  },
  {
   "cell_type": "code",
   "execution_count": null,
   "metadata": {},
   "outputs": [],
   "source": []
  }
 ],
 "metadata": {
  "kernelspec": {
   "display_name": "Python 3",
   "language": "python",
   "name": "python3"
  },
  "language_info": {
   "codemirror_mode": {
    "name": "ipython",
    "version": 3
   },
   "file_extension": ".py",
   "mimetype": "text/x-python",
   "name": "python",
   "nbconvert_exporter": "python",
   "pygments_lexer": "ipython3",
   "version": "3.8.3"
  },
  "toc": {
   "base_numbering": 1,
   "nav_menu": {},
   "number_sections": true,
   "sideBar": true,
   "skip_h1_title": false,
   "title_cell": "Table of Contents",
   "title_sidebar": "Contents",
   "toc_cell": false,
   "toc_position": {},
   "toc_section_display": true,
   "toc_window_display": false
  }
 },
 "nbformat": 4,
 "nbformat_minor": 2
}
